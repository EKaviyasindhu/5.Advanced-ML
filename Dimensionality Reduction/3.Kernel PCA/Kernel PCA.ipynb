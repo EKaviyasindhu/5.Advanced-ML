{
 "cells": [
  {
   "cell_type": "code",
   "execution_count": 3,
   "id": "3b2c08ed-2efd-4d5a-8fc5-49d476cc99c7",
   "metadata": {},
   "outputs": [],
   "source": [
    "import pandas as pd\n",
    "from sklearn.model_selection import train_test_split\n",
    "from sklearn.preprocessing import StandardScaler\n",
    "from sklearn.linear_model import LogisticRegression\n",
    "from sklearn.ensemble import RandomForestClassifier\n",
    "from sklearn.tree import DecisionTreeClassifier\n",
    "from sklearn.svm import SVC\n",
    "from sklearn.naive_bayes import GaussianNB\n",
    "from sklearn.neighbors import KNeighborsClassifier\n",
    "from sklearn.decomposition import KernelPCA\n",
    "from sklearn.metrics import accuracy_score, confusion_matrix\n",
    "\n",
    "import warnings\n",
    "warnings.filterwarnings(\"ignore\")"
   ]
  },
  {
   "cell_type": "code",
   "execution_count": 4,
   "id": "ded9ce3a-d4f7-4971-82bc-c22af1efe818",
   "metadata": {},
   "outputs": [],
   "source": [
    "# ---------------------------\n",
    "# Functions\n",
    "# ---------------------------\n",
    "def Func_KPCA(X_train, X_test):\n",
    "    kpca = KernelPCA(n_components=2, kernel='rbf', gamma=0.1, random_state=0)\n",
    "    X_train_kpca = kpca.fit_transform(X_train)\n",
    "    X_test_kpca = kpca.transform(X_test)\n",
    "    return kpca, X_train_kpca, X_test_kpca\n",
    "\n",
    "def evaluate_model(name, classifier, X_train, y_train, X_test, y_test):\n",
    "    classifier.fit(X_train, y_train)\n",
    "    y_pred = classifier.predict(X_test)\n",
    "    acc = accuracy_score(y_test, y_pred)\n",
    "    cm = confusion_matrix(y_test, y_pred)\n",
    "    print(f\"\\n=== {name} ===\")\n",
    "    print(\"Accuracy:\", acc)\n",
    "    print(\"Confusion Matrix:\\n\", cm)\n",
    "    return acc, cm"
   ]
  },
  {
   "cell_type": "code",
   "execution_count": 5,
   "id": "5978f7b9-b6e6-409a-8c17-667c1c1f0420",
   "metadata": {},
   "outputs": [],
   "source": [
    "# ---------------------------\n",
    "# Load dataset\n",
    "# ---------------------------\n",
    "dataset = pd.read_csv(\"Wine.csv\")\n",
    "X = dataset.iloc[:, 0:13].values\n",
    "y = dataset.iloc[:, 13].values\n",
    "\n",
    "# Train-test split\n",
    "X_train, X_test, y_train, y_test = train_test_split(X, y, test_size=0.2, random_state=0)\n",
    "\n",
    "# Scale\n",
    "sc = StandardScaler()\n",
    "X_train = sc.fit_transform(X_train)\n",
    "X_test = sc.transform(X_test)\n",
    "\n",
    "# Apply Kernel PCA\n",
    "kpca, X_train_kpca, X_test_kpca = Func_KPCA(X_train, X_test)"
   ]
  },
  {
   "cell_type": "code",
   "execution_count": 6,
   "id": "9d104370-f952-4acb-97fc-19a961d82b54",
   "metadata": {},
   "outputs": [
    {
     "name": "stdout",
     "output_type": "stream",
     "text": [
      "\n",
      "=== Logistic Regression ===\n",
      "Accuracy: 1.0\n",
      "Confusion Matrix:\n",
      " [[14  0  0]\n",
      " [ 0 16  0]\n",
      " [ 0  0  6]]\n",
      "\n",
      "=== SVM (linear) ===\n",
      "Accuracy: 1.0\n",
      "Confusion Matrix:\n",
      " [[14  0  0]\n",
      " [ 0 16  0]\n",
      " [ 0  0  6]]\n",
      "\n",
      "=== SVM (rbf) ===\n",
      "Accuracy: 1.0\n",
      "Confusion Matrix:\n",
      " [[14  0  0]\n",
      " [ 0 16  0]\n",
      " [ 0  0  6]]\n",
      "\n",
      "=== KNN ===\n",
      "Accuracy: 1.0\n",
      "Confusion Matrix:\n",
      " [[14  0  0]\n",
      " [ 0 16  0]\n",
      " [ 0  0  6]]\n",
      "\n",
      "=== Naive Bayes ===\n",
      "Accuracy: 1.0\n",
      "Confusion Matrix:\n",
      " [[14  0  0]\n",
      " [ 0 16  0]\n",
      " [ 0  0  6]]\n",
      "\n",
      "=== Decision Tree ===\n",
      "Accuracy: 0.9722222222222222\n",
      "Confusion Matrix:\n",
      " [[14  0  0]\n",
      " [ 1 15  0]\n",
      " [ 0  0  6]]\n",
      "\n",
      "=== Random Forest ===\n",
      "Accuracy: 0.9722222222222222\n",
      "Confusion Matrix:\n",
      " [[14  0  0]\n",
      " [ 1 15  0]\n",
      " [ 0  0  6]]\n"
     ]
    }
   ],
   "source": [
    "# ---------------------------\n",
    "# Train classifiers on KPCA data\n",
    "# ---------------------------\n",
    "results = {}\n",
    "\n",
    "results[\"Logistic\"] = evaluate_model(\"Logistic Regression\", LogisticRegression(random_state=0), \n",
    "                                     X_train_kpca, y_train, X_test_kpca, y_test)\n",
    "\n",
    "results[\"SVM (linear)\"] = evaluate_model(\"SVM (linear)\", SVC(kernel='linear', random_state=0), \n",
    "                                         X_train_kpca, y_train, X_test_kpca, y_test)\n",
    "\n",
    "results[\"SVM (rbf)\"] = evaluate_model(\"SVM (rbf)\", SVC(kernel='rbf', random_state=0), \n",
    "                                      X_train_kpca, y_train, X_test_kpca, y_test)\n",
    "\n",
    "results[\"KNN\"] = evaluate_model(\"KNN\", KNeighborsClassifier(n_neighbors=5, metric='minkowski', p=2), \n",
    "                                X_train_kpca, y_train, X_test_kpca, y_test)\n",
    "\n",
    "results[\"Naive Bayes\"] = evaluate_model(\"Naive Bayes\", GaussianNB(), \n",
    "                                        X_train_kpca, y_train, X_test_kpca, y_test)\n",
    "\n",
    "results[\"Decision Tree\"] = evaluate_model(\"Decision Tree\", DecisionTreeClassifier(criterion='entropy', random_state=0), \n",
    "                                          X_train_kpca, y_train, X_test_kpca, y_test)\n",
    "\n",
    "results[\"Random Forest\"] = evaluate_model(\"Random Forest\", RandomForestClassifier(n_estimators=10, criterion='entropy', random_state=0), \n",
    "                                          X_train_kpca, y_train, X_test_kpca, y_test)\n"
   ]
  },
  {
   "cell_type": "code",
   "execution_count": 7,
   "id": "deffc957-4562-4f7e-a20c-d9daaf5400e6",
   "metadata": {},
   "outputs": [
    {
     "name": "stdout",
     "output_type": "stream",
     "text": [
      "\n",
      "\n",
      "=== Summary Table (Accuracies) ===\n",
      "           Logistic  SVM (linear)  SVM (rbf)  KNN  Naive Bayes  Decision Tree  \\\n",
      "KernelPCA       1.0           1.0        1.0  1.0          1.0       0.972222   \n",
      "\n",
      "           Random Forest  \n",
      "KernelPCA       0.972222  \n"
     ]
    }
   ],
   "source": [
    "# ---------------------------\n",
    "# Build summary table (only accuracies)\n",
    "# ---------------------------\n",
    "summary = {name: acc for name, (acc, cm) in results.items()}\n",
    "result_df = pd.DataFrame(summary, index=[\"KernelPCA\"])\n",
    "print(\"\\n\\n=== Summary Table (Accuracies) ===\")\n",
    "print(result_df)"
   ]
  },
  {
   "cell_type": "code",
   "execution_count": null,
   "id": "bb70b596-3bce-4491-b69f-0455a95fc49f",
   "metadata": {},
   "outputs": [],
   "source": []
  }
 ],
 "metadata": {
  "kernelspec": {
   "display_name": "Python 3 (ipykernel)",
   "language": "python",
   "name": "python3"
  },
  "language_info": {
   "codemirror_mode": {
    "name": "ipython",
    "version": 3
   },
   "file_extension": ".py",
   "mimetype": "text/x-python",
   "name": "python",
   "nbconvert_exporter": "python",
   "pygments_lexer": "ipython3",
   "version": "3.11.5"
  }
 },
 "nbformat": 4,
 "nbformat_minor": 5
}
